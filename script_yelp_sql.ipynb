{
 "cells": [
  {
   "cell_type": "code",
   "execution_count": 1,
   "id": "ba059839-8e8f-483a-baf6-6f8d5ae0beb1",
   "metadata": {},
   "outputs": [],
   "source": [
    "import pandas as pd\n",
    "import os\n",
    "import json\n",
    "from sqlalchemy import create_engine\n",
    "import logging\n",
    "import time\n",
    "\n",
    "logging.basicConfig(\n",
    "    filename=\"yelpy/insert.db.log\",\n",
    "    level=logging.DEBUG,\n",
    "    format=\"%(asctime)s - %(levelname)s - %(message)s\",\n",
    "    filemode=\"a\"\n",
    ")\n",
    "\n",
    "engine = create_engine('sqlite:///yelper.db')\n",
    "\n",
    "def ingest_db(df, table_name, engine, if_exists=\"append\"):\n",
    "    \"\"\"Ingest DataFrame into database table.\"\"\"\n",
    "    df.to_sql(table_name, con=engine, if_exists=if_exists, index=False)\n",
    "\n",
    "def load_raw_data():\n",
    "    \"\"\"Load JSON files in chunks, preprocess, and ingest into DB.\"\"\"\n",
    "    start = time.time()\n",
    "    folder_path = r'C:\\Users\\hp\\Desktop\\Data Analyst\\Data Analyst Real project\\Tech Classes\\New folder\\AnotherData'\n",
    "\n",
    "    for file in os.listdir(folder_path):\n",
    "        if file.endswith('.json'):\n",
    "            file_path = os.path.join(folder_path, file)\n",
    "            table_name = file[:-5]  # remove .json for table name\n",
    "\n",
    "            logging.info(f'Starting ingestion for {file}')\n",
    "\n",
    "            # Process JSON in chunks\n",
    "            chunk_iter = pd.read_json(file_path, lines=True, chunksize=50000)  # adjust chunk size\n",
    "            first_chunk = True\n",
    "\n",
    "            for chunk_df in chunk_iter:\n",
    "                # Convert dict columns into JSON strings before ingestion\n",
    "                for col in chunk_df.columns:\n",
    "                    if chunk_df[col].apply(lambda x: isinstance(x, dict)).any():\n",
    "                        chunk_df[col] = chunk_df[col].apply(lambda x: json.dumps(x) if isinstance(x, dict) else x)\n",
    "\n",
    "                ingest_db(chunk_df, table_name, engine, if_exists=\"replace\" if first_chunk else \"append\")\n",
    "                first_chunk = False\n",
    "\n",
    "            logging.info(f'Finished ingestion for {file}')\n",
    "    \n",
    "    end = time.time()\n",
    "    total_time = (end - start) / 60\n",
    "    logging.info('-------------Ingestion Complete---------------')\n",
    "    logging.info(f'\\nTotal Time Taken : {total_time:.2f} minutes')\n",
    "\n",
    "if __name__ == '__main__':\n",
    "    load_raw_data()"
   ]
  }
 ],
 "metadata": {
  "kernelspec": {
   "display_name": "Python 3 (ipykernel)",
   "language": "python",
   "name": "python3"
  },
  "language_info": {
   "codemirror_mode": {
    "name": "ipython",
    "version": 3
   },
   "file_extension": ".py",
   "mimetype": "text/x-python",
   "name": "python",
   "nbconvert_exporter": "python",
   "pygments_lexer": "ipython3",
   "version": "3.13.2"
  }
 },
 "nbformat": 4,
 "nbformat_minor": 5
}
